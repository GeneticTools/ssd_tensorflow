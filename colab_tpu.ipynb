{
 "cells": [
  {
   "cell_type": "markdown",
   "metadata": {
    "colab_type": "text",
    "id": "view-in-github"
   },
   "source": [
    "<a href=\"https://colab.research.google.com/github/srihari-humbarwadi/ssd_tensorflow/blob/master/colab_train.ipynb\" target=\"_parent\"><img src=\"https://colab.research.google.com/assets/colab-badge.svg\" alt=\"Open In Colab\"/></a>"
   ]
  },
  {
   "cell_type": "code",
   "execution_count": null,
   "metadata": {
    "colab": {
     "base_uri": "https://localhost:8080/",
     "height": 134
    },
    "colab_type": "code",
    "id": "9fuVED2kl3Bs",
    "outputId": "1cb5dcb1-1274-473d-d99e-aa3ce7c98b02"
   },
   "outputs": [],
   "source": [
    "!git clone https://github.com/srihari-humbarwadi/ssd_tensorflow.git"
   ]
  },
  {
   "cell_type": "code",
   "execution_count": null,
   "metadata": {
    "colab": {},
    "colab_type": "code",
    "id": "2ThIKmO63lU0"
   },
   "outputs": [],
   "source": [
    "# https://raw.githubusercontent.com/GoogleCloudPlatform/training-data-analyst/master/courses/fast-and-lean-data-science/create-tpu-deep-learning-vm.sh"
   ]
  },
  {
   "cell_type": "code",
   "execution_count": null,
   "metadata": {
    "colab": {},
    "colab_type": "code",
    "id": "a5cI7wagm_lA"
   },
   "outputs": [],
   "source": [
    "import sys\n",
    "from google.colab import auth\n",
    "import tensorflow_gcs_config as tfgcs\n",
    "\n",
    "auth.authenticate_user()\n",
    "\n",
    "sys.path.append('ssd_tensorflow')"
   ]
  },
  {
   "cell_type": "code",
   "execution_count": null,
   "metadata": {
    "colab": {
     "base_uri": "https://localhost:8080/",
     "height": 34
    },
    "colab_type": "code",
    "id": "pRF-gtU1kac2",
    "outputId": "1349656e-3441-4f45-d066-5cc5e9272d8c"
   },
   "outputs": [],
   "source": [
    "from glob import glob\n",
    "import logging\n",
    "import os\n",
    "from pprint import pprint\n",
    "\n",
    "import tensorflow as tf\n",
    "\n",
    "from ssd.common.callbacks import CallbackBuilder\n",
    "from ssd.common.distribute import get_strategy\n",
    "from ssd.common.config import load_config\n",
    "from ssd.common.viz_utils import draw_boxes_cv2, imshow\n",
    "from ssd.data.dataset_builder import DatasetBuilder\n",
    "from ssd.losses.multibox_loss import MultiBoxLoss\n",
    "from ssd.models.ssd_model import SSDModel\n",
    "\n",
    "logger = tf.get_logger()\n",
    "logger.setLevel(logging.INFO)\n",
    "\n",
    "logger.info('version: {}'.format(tf.__version__))"
   ]
  },
  {
   "cell_type": "code",
   "execution_count": null,
   "metadata": {
    "colab": {},
    "colab_type": "code",
    "id": "cPB_Vmxwkac7"
   },
   "outputs": [],
   "source": [
    "# !PYTHONPATH=\"ssd_tensorflow\" python ssd_tensorflow/ssd/scripts/calculate_feature_shapes.py --image_height 1024 --image_width 1024 --num_feature_maps 7\n",
    "# !PYTHONPATH=\"ssd_tensorflow\" python ssd_tensorflow/ssd/scripts/calculate_scales.py -n 7 --s_first 0.04 --smin 0.06 --smax 0.98\n",
    "# !PYTHONPATH=\"ssd_tensorflow\" python ssd_tensorflow/check_matching.py"
   ]
  },
  {
   "cell_type": "code",
   "execution_count": null,
   "metadata": {
    "colab": {},
    "colab_type": "code",
    "id": "RxdsZ6bekac9"
   },
   "outputs": [],
   "source": [
    "config = {\n",
    "    'aspect_ratios': ((0.333, 0.5, 1, 2, 3), (0.333, 0.5, 1, 2, 3), (0.333, 0.5, 1, 2, 3), (0.333, 0.5, 1, 2, 3),\n",
    "                      (0.333, 0.5, 1, 2, 3), (0.5, 1, 2), (0.5, 1, 2)),\n",
    "    'backbone': 'resnet_50_v2',\n",
    "    'base_lr': 0.001,\n",
    "    'batch_size': 1,\n",
    "    'brightness_max_delta': 0.1,\n",
    "    'classes': ('object',),\n",
    "    'clear_previous_runs': True,\n",
    "    'clip_default_boxes': False,\n",
    "    'cls_loss_weight': 1.0,\n",
    "    'contrast_lower': 0.5,\n",
    "    'contrast_upper': 1.5,\n",
    "    'epochs': 10,\n",
    "    'feature_shapes': ((128, 128), (64, 64), (32, 32), (16, 16), (8, 8), (6, 6), (4, 4)),\n",
    "    'image_height': 1024,\n",
    "    'image_width': 1024,\n",
    "    'l2_regularization': False,\n",
    "    'loc_loss_weight': 1.0,\n",
    "    'loc_variance': (0.1, 0.1, 0.2, 0.2),\n",
    "    'match_iou_threshold': 0.45,\n",
    "    'max_detections': 1000,\n",
    "    'model_dir': 'gs://srihari_models/ssd',\n",
    "    'multi_gpu': False,\n",
    "    'negatives_ratio': 3,\n",
    "    'nms_iou_threshold': 0.5,\n",
    "    'num_classes': 1,\n",
    "    'patience': 3,\n",
    "    'pixel_range': (-1, 1),\n",
    "    'random_brightness': True,\n",
    "    'random_contrast': True,\n",
    "    'random_flip_horizonal': True,\n",
    "    'random_patch': True,\n",
    "    'random_saturation': True,\n",
    "    'rescale_pixels': True,\n",
    "    'saturation_lower': 0.5,\n",
    "    'saturation_upper': 1.5,\n",
    "    'scale_batch_size': True,\n",
    "    'scale_lr': True,\n",
    "    'scales': (0.04, 0.06, 0.24, 0.42, 0.6, 0.78, 0.96, 1.14),\n",
    "    'score_threshold': 0.45,\n",
    "    'smooth_l1_delta': 1.0,\n",
    "    'tfrecords_train': 'gs://tfrecord_datasets/sku110k_tfrecords/train*',\n",
    "    'tfrecords_val': 'gs://tfrecord_datasets/sku110k_tfrecords/val*',\n",
    "    'tpu_name': os.environ['COLAB_TPU_ADDR'],\n",
    "    'train_images': 8300,\n",
    "    'use_gpu': False,\n",
    "    'use_tpu': True,\n",
    "    'val_images': 588\n",
    "}"
   ]
  },
  {
   "cell_type": "code",
   "execution_count": null,
   "metadata": {
    "colab": {
     "base_uri": "https://localhost:8080/",
     "height": 1000
    },
    "colab_type": "code",
    "id": "yIfD1wimkac_",
    "outputId": "c65f657d-67eb-4ccb-cd78-6ef3e8b21426"
   },
   "outputs": [],
   "source": [
    "# config = load_config('ssd/cfg/sku110k.yaml')\n",
    "\n",
    "strategy = get_strategy(config)\n",
    "tfgcs.configure_gcs_from_colab_auth()\n",
    "\n",
    "epochs = config['epochs']\n",
    "\n",
    "lr = config['base_lr']\n",
    "lr = config['base_lr']\n",
    "lr = lr if not config['scale_lr'] else lr * strategy.num_replicas_in_sync\n",
    "\n",
    "batch_size = config['batch_size']\n",
    "batch_size = batch_size if not config['scale_batch_size'] else batch_size * strategy.num_replicas_in_sync\n",
    "config['batch_size'] = batch_size\n",
    "\n",
    "train_steps = config['train_images'] // config['batch_size']\n",
    "val_steps = config['val_images'] // config['batch_size']\n",
    "\n",
    "print('\\n')\n",
    "pprint(config, width=120, compact=True)"
   ]
  },
  {
   "cell_type": "code",
   "execution_count": null,
   "metadata": {
    "colab": {
     "base_uri": "https://localhost:8080/",
     "height": 50
    },
    "colab_type": "code",
    "id": "xxDv9velkadC",
    "outputId": "61605fa6-09fb-4bf8-aa12-e30cc2cc5bc0"
   },
   "outputs": [],
   "source": [
    "with strategy.scope():\n",
    "    train_dataset = DatasetBuilder('train', config)\n",
    "    val_dataset = DatasetBuilder('val', config)\n",
    "\n",
    "    loss_fn = MultiBoxLoss(config)\n",
    "    optimizer = tf.optimizers.Adam(learning_rate=lr)\n",
    "    callbacks_list = CallbackBuilder('test_run', config).get_callbacks()\n",
    "    \n",
    "    model = SSDModel(config)\n",
    "    model.compile(loss_fn=loss_fn, optimizer=optimizer)"
   ]
  },
  {
   "cell_type": "code",
   "execution_count": null,
   "metadata": {
    "colab": {
     "base_uri": "https://localhost:8080/",
     "height": 658
    },
    "colab_type": "code",
    "id": "tFRNuqClkadE",
    "outputId": "888e4ca9-a6f1-4d41-f2b1-2fc936fb7180"
   },
   "outputs": [],
   "source": [
    "if config['clear_previous_runs']:\n",
    "    if config['use_tpu']:\n",
    "        logger.warning('Skipping GCS Bucket')\n",
    "    else:\n",
    "        [os.remove(file) for file in glob(config['model_dir'] +  '/checkpoint/*')]\n",
    "        [os.remove(file) for file in glob(config['model_dir'] + '/tensorboard/*')]\n",
    "        logger.info('Cleared existing model files')\n",
    "\n",
    "model.fit(train_dataset.dataset,\n",
    "          epochs=epochs,\n",
    "          steps_per_epoch=train_steps,\n",
    "          validation_data=val_dataset.dataset,\n",
    "          validation_steps=val_steps,\n",
    "          callbacks=callbacks_list)"
   ]
  },
  {
   "cell_type": "code",
   "execution_count": null,
   "metadata": {
    "colab": {
     "base_uri": "https://localhost:8080/",
     "height": 1000
    },
    "colab_type": "code",
    "id": "FJVmRMfdkadG",
    "outputId": "ee5edbde-31c3-4d68-b0b0-d001bbfc823a"
   },
   "outputs": [],
   "source": [
    "for images, _ in val_dataset.dataset.take(1):\n",
    "    for i in range(images.shape[0]):\n",
    "        image = images[i]\n",
    "        detections = model.get_detections(image[None, ...])\n",
    "        image = image * 127.5 + 127.5\n",
    "        \n",
    "        categories = [config['classes'][cls_id] for cls_id in detections['cls_ids'].numpy()]\n",
    "        image = draw_boxes_cv2(image, detections['boxes'], categories)\n",
    "        imshow(image)"
   ]
  },
  {
   "cell_type": "code",
   "execution_count": null,
   "metadata": {
    "colab": {},
    "colab_type": "code",
    "id": "tG30f7wukadI"
   },
   "outputs": [],
   "source": [
    "signatures = {\n",
    "    'serving_default': model.get_detections.get_concrete_function(tf.TensorSpec([1, config['image_height'], config['image_width'], 3]))\n",
    "}"
   ]
  },
  {
   "cell_type": "code",
   "execution_count": null,
   "metadata": {
    "colab": {},
    "colab_type": "code",
    "id": "8upNJaXlkadK"
   },
   "outputs": [],
   "source": [
    "model.save('model_files/v1', save_format='tf', signatures=signatures)"
   ]
  },
  {
   "cell_type": "code",
   "execution_count": null,
   "metadata": {
    "colab": {},
    "colab_type": "code",
    "id": "YqBlQcC-kadN"
   },
   "outputs": [],
   "source": []
  }
 ],
 "metadata": {
  "accelerator": "TPU",
  "colab": {
   "include_colab_link": true,
   "name": "colab_train.ipynb",
   "provenance": []
  },
  "kernelspec": {
   "display_name": "Python 3",
   "language": "python",
   "name": "python3"
  },
  "language_info": {
   "codemirror_mode": {
    "name": "ipython",
    "version": 3
   },
   "file_extension": ".py",
   "mimetype": "text/x-python",
   "name": "python",
   "nbconvert_exporter": "python",
   "pygments_lexer": "ipython3",
   "version": "3.7.6"
  }
 },
 "nbformat": 4,
 "nbformat_minor": 4
}
