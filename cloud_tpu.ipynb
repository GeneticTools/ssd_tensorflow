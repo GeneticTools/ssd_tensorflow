{
 "cells": [
  {
   "cell_type": "code",
   "execution_count": null,
   "metadata": {
    "colab": {
     "base_uri": "https://localhost:8080/",
     "height": 34
    },
    "colab_type": "code",
    "id": "pRF-gtU1kac2",
    "outputId": "1349656e-3441-4f45-d066-5cc5e9272d8c"
   },
   "outputs": [],
   "source": [
    "from glob import glob\n",
    "import logging\n",
    "import os\n",
    "from pprint import pprint\n",
    "from time import time\n",
    "from tqdm.notebook import tqdm\n",
    "\n",
    "import tensorflow as tf\n",
    "\n",
    "from ssd.common.callbacks import CallbackBuilder\n",
    "from ssd.common.distribute import get_strategy\n",
    "from ssd.common.config import load_config\n",
    "from ssd.common.viz_utils import draw_boxes_cv2, imshow\n",
    "from ssd.data.dataset_builder import DatasetBuilder\n",
    "from ssd.losses.multibox_loss import MultiBoxLoss\n",
    "from ssd.models.ssd_model import SSDModel\n",
    "\n",
    "logger = tf.get_logger()\n",
    "logger.setLevel(logging.INFO)\n",
    "\n",
    "logger.info('version: {}'.format(tf.__version__))"
   ]
  },
  {
   "cell_type": "code",
   "execution_count": null,
   "metadata": {
    "colab": {},
    "colab_type": "code",
    "id": "cPB_Vmxwkac7"
   },
   "outputs": [],
   "source": [
    "!python ssd/scripts/calculate_feature_shapes.py --image_height 480 --image_width 480 --num_feature_maps 6\n",
    "# !python ssd/scripts/calculate_scales.py -n 7 --s_first 0.1 --smin 0.2 --smax 0.95\n",
    "# !python check_matching.py"
   ]
  },
  {
   "cell_type": "code",
   "execution_count": null,
   "metadata": {
    "colab": {
     "base_uri": "https://localhost:8080/",
     "height": 1000
    },
    "colab_type": "code",
    "id": "yIfD1wimkac_",
    "outputId": "c65f657d-67eb-4ccb-cd78-6ef3e8b21426"
   },
   "outputs": [],
   "source": [
    "config = load_config('ssd/cfg/sku110k-50.yaml')\n",
    "config['use_tpu'] = False\n",
    "config['cache_dataset_in_memory'] = False\n",
    "config['batch_size'] = 64\n",
    "\n",
    "strategy = get_strategy(config)\n",
    "\n",
    "epochs = config['epochs']\n",
    "\n",
    "lr = config['base_lr']\n",
    "lr = config['base_lr']\n",
    "lr = lr if not config['scale_lr'] else lr * strategy.num_replicas_in_sync\n",
    "\n",
    "batch_size = config['batch_size']\n",
    "batch_size = batch_size if not config['scale_batch_size'] else batch_size * strategy.num_replicas_in_sync\n",
    "config['batch_size'] = batch_size\n",
    "\n",
    "train_steps = config['train_images'] // config['batch_size']\n",
    "val_steps = config['val_images'] // config['batch_size']\n",
    "\n",
    "print('\\n')\n",
    "pprint(config, width=120, compact=True)"
   ]
  },
  {
   "cell_type": "code",
   "execution_count": null,
   "metadata": {
    "colab": {
     "base_uri": "https://localhost:8080/",
     "height": 50
    },
    "colab_type": "code",
    "id": "xxDv9velkadC",
    "outputId": "61605fa6-09fb-4bf8-aa12-e30cc2cc5bc0"
   },
   "outputs": [],
   "source": [
    "with strategy.scope():\n",
    "#     train_dataset = DatasetBuilder('train', config)\n",
    "    val_dataset = DatasetBuilder('val', config)\n",
    "    test_dataset = DatasetBuilder('test', config)\n",
    "\n",
    "    loss_fn = MultiBoxLoss(config)\n",
    "    optimizer = tf.optimizers.Adam(learning_rate=lr)\n",
    "    callbacks_list = CallbackBuilder('test_run', config).get_callbacks()\n",
    "    \n",
    "    model = SSDModel(config)\n",
    "    model.compile(loss_fn=loss_fn, optimizer=optimizer)"
   ]
  },
  {
   "cell_type": "code",
   "execution_count": null,
   "metadata": {},
   "outputs": [],
   "source": [
    "with strategy.scope():\n",
    "    latest_checkpoint = tf.train.latest_checkpoint(os.path.join(config['model_dir'] , 'best_weights'))\n",
    "    logger.info('Loading weights from {}'.format(latest_checkpoint))\n",
    "    model.load_weights(latest_checkpoint)"
   ]
  },
  {
   "cell_type": "code",
   "execution_count": null,
   "metadata": {},
   "outputs": [],
   "source": [
    "for images, _ in test_dataset.dataset.take(1):\n",
    "    for i in tqdm(range(images.shape[0])):\n",
    "\n",
    "        image = images[i]\n",
    "        detections = model.get_detections(image[None, ...])\n",
    "        if 'resnet' in config['backbone']:\n",
    "            image = image * 127.5 + 127.5\n",
    "        \n",
    "        categories = [config['classes'][cls_id] for cls_id in detections['cls_ids'].numpy()]\n",
    "        image = draw_boxes_cv2(image, detections['boxes'], categories)\n",
    "        imshow(image)"
   ]
  },
  {
   "cell_type": "code",
   "execution_count": null,
   "metadata": {},
   "outputs": [],
   "source": [
    "image_path = 'kroger_apexawards_retail_coldspring.jpg'\n",
    "\n",
    "image = tf.io.read_file(image_path)\n",
    "image = tf.image.decode_image(image)\n",
    "image = tf.image.resize(image, [config['image_height'], config['image_width']])\n",
    "\n",
    "if 'resnet' in config['backbone']:\n",
    "    image_preprocessed = (tf.cast(image, dtype=tf.float32) - 127.5) / 127.5\n",
    "else:\n",
    "    image_preprocessed = image\n",
    "\n",
    "s = time()\n",
    "detections = model.get_detections(image_preprocessed[None, ...])\n",
    "e = time()\n",
    "logger.info('Inference time: {:.3f}'.format(e - s))\n",
    "categories = [config['classes'][cls_id] for cls_id in detections['cls_ids']]\n",
    "image = draw_boxes_cv2(image, detections['boxes'], categories, thickness=1)\n",
    "imshow(image)\n"
   ]
  },
  {
   "cell_type": "code",
   "execution_count": null,
   "metadata": {},
   "outputs": [],
   "source": []
  }
 ],
 "metadata": {
  "accelerator": "TPU",
  "colab": {
   "include_colab_link": true,
   "name": "colab_train.ipynb",
   "provenance": []
  },
  "environment": {
   "name": "tf2-cpu.2-1.m47",
   "type": "gcloud",
   "uri": "gcr.io/deeplearning-platform-release/tf2-cpu.2-1:m47"
  },
  "kernelspec": {
   "display_name": "Python 3",
   "language": "python",
   "name": "python3"
  },
  "language_info": {
   "codemirror_mode": {
    "name": "ipython",
    "version": 3
   },
   "file_extension": ".py",
   "mimetype": "text/x-python",
   "name": "python",
   "nbconvert_exporter": "python",
   "pygments_lexer": "ipython3",
   "version": "3.7.6"
  }
 },
 "nbformat": 4,
 "nbformat_minor": 4
}
