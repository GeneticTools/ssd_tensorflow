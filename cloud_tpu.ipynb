{
 "cells": [
  {
   "cell_type": "code",
   "execution_count": 1,
   "metadata": {
    "colab": {
     "base_uri": "https://localhost:8080/",
     "height": 34
    },
    "colab_type": "code",
    "id": "pRF-gtU1kac2",
    "outputId": "1349656e-3441-4f45-d066-5cc5e9272d8c"
   },
   "outputs": [
    {
     "name": "stdout",
     "output_type": "stream",
     "text": [
      "INFO:tensorflow:version: 2.2.0-rc3\n"
     ]
    }
   ],
   "source": [
    "from glob import glob\n",
    "import logging\n",
    "import os\n",
    "from pprint import pprint\n",
    "import shutil\n",
    "from time import time\n",
    "from tqdm.notebook import tqdm\n",
    "\n",
    "import tensorflow as tf\n",
    "\n",
    "from ssd.common.callbacks import CallbackBuilder\n",
    "from ssd.common.distribute import get_strategy\n",
    "from ssd.common.config import load_config\n",
    "from ssd.common.viz_utils import draw_boxes_cv2, imshow\n",
    "from ssd.data.dataset_builder import DatasetBuilder\n",
    "from ssd.losses.multibox_loss import MultiBoxLoss\n",
    "from ssd.models.ssd_model import SSDModel\n",
    "\n",
    "logger = tf.get_logger()\n",
    "logger.setLevel(logging.INFO)\n",
    "\n",
    "logger.info('version: {}'.format(tf.__version__))"
   ]
  },
  {
   "cell_type": "code",
   "execution_count": 2,
   "metadata": {},
   "outputs": [],
   "source": [
    "os.environ['CUDA_VISIBLE_DEVICES'] = '1, 2, 3, 4'\n",
    "os.environ['TF_XLA_FLAGS'] = '--tf_xla_auto_jit=2 --tf_xla_cpu_global_jit'"
   ]
  },
  {
   "cell_type": "code",
   "execution_count": 3,
   "metadata": {
    "colab": {},
    "colab_type": "code",
    "id": "cPB_Vmxwkac7"
   },
   "outputs": [],
   "source": [
    "# !python ssd/scripts/calculate_feature_shapes.py --image_height 512 --image_width 512 --num_feature_maps 7\n",
    "# !python ssd/scripts/calculate_scales.py -n 7 --s_first 0.04 --smin 0.1 --smax 0.9\n",
    "# !python check_matching.py ssd/cfg/coco_resnet50_512x512.yaml"
   ]
  },
  {
   "cell_type": "code",
   "execution_count": 4,
   "metadata": {
    "colab": {
     "base_uri": "https://localhost:8080/",
     "height": 1000
    },
    "colab_type": "code",
    "id": "yIfD1wimkac_",
    "outputId": "c65f657d-67eb-4ccb-cd78-6ef3e8b21426"
   },
   "outputs": [
    {
     "name": "stdout",
     "output_type": "stream",
     "text": [
      "INFO:tensorflow:Using MirroredStrategy with devices ('/job:localhost/replica:0/task:0/device:GPU:0', '/job:localhost/replica:0/task:0/device:GPU:1', '/job:localhost/replica:0/task:0/device:GPU:2', '/job:localhost/replica:0/task:0/device:GPU:3')\n",
      "INFO:tensorflow:Running with MirroredStrategy on 4 GPU's \n",
      "\n",
      "\n",
      "{'area_range': (0.3, 1),\n",
      " 'aspect_ratio_range': (0.667, 1.334),\n",
      " 'aspect_ratios': ((0.5, 1, 2), (0.333, 0.5, 1, 2, 3), (0.333, 0.5, 1, 2, 3), (0.333, 0.5, 1, 2, 3), (0.5, 1, 2),\n",
      "                   (0.5, 1, 2), (0.5, 1, 2)),\n",
      " 'augment_val_dataset': False,\n",
      " 'backbone': 'resnet_50_v2',\n",
      " 'base_lr': 5e-05,\n",
      " 'batch_size': 32,\n",
      " 'brightness_max_delta': 0.2,\n",
      " 'cache_dataset_in_memory': False,\n",
      " 'classes': ('airplane', 'apple', 'backpack', 'banana', 'baseball bat', 'baseball glove', 'bear', 'bed', 'bench',\n",
      "             'bicycle', 'bird', 'boat', 'book', 'bottle', 'bowl', 'broccoli', 'bus', 'cake', 'car', 'carrot', 'cat',\n",
      "             'cell phone', 'chair', 'clock', 'couch', 'cow', 'cup', 'dining table', 'dog', 'donut', 'elephant',\n",
      "             'fire hydrant', 'fork', 'frisbee', 'giraffe', 'hair drier', 'handbag', 'horse', 'hot dog', 'keyboard',\n",
      "             'kite', 'knife', 'laptop', 'microwave', 'motorcycle', 'mouse', 'orange', 'oven', 'parking meter', 'person',\n",
      "             'pizza', 'potted plant', 'refrigerator', 'remote', 'sandwich', 'scissors', 'sheep', 'sink', 'skateboard',\n",
      "             'skis', 'snowboard', 'spoon', 'sports ball', 'stop sign', 'suitcase', 'surfboard', 'teddy bear',\n",
      "             'tennis racket', 'tie', 'toaster', 'toilet', 'toothbrush', 'traffic light', 'train', 'truck', 'tv',\n",
      "             'umbrella', 'vase', 'wine glass', 'zebra'),\n",
      " 'clear_previous_runs': True,\n",
      " 'clip_default_boxes': False,\n",
      " 'cls_loss_weight': 1.0,\n",
      " 'contrast_lower': 0.5,\n",
      " 'contrast_upper': 1.5,\n",
      " 'epochs': 200,\n",
      " 'feature_shapes': ((64, 64), (32, 32), (16, 16), (8, 8), (6, 6), (4, 4), (1, 1)),\n",
      " 'freeze_bn': False,\n",
      " 'image_height': 512,\n",
      " 'image_width': 512,\n",
      " 'l2_regularization': 0.0004,\n",
      " 'loc_loss_weight': 1.0,\n",
      " 'loc_variance': (0.1, 0.1, 0.2, 0.2),\n",
      " 'match_iou_threshold': 0.5,\n",
      " 'max_detections': 300,\n",
      " 'min_obj_covered': 0.1,\n",
      " 'model_dir': 'model_files/coco/resnet_50_512x512',\n",
      " 'multi_gpu': True,\n",
      " 'negatives_ratio': 3,\n",
      " 'nms_iou_threshold': 0.6,\n",
      " 'num_classes': 80,\n",
      " 'patience': 200,\n",
      " 'random_brightness': True,\n",
      " 'random_contrast': False,\n",
      " 'random_flip_horizonal': False,\n",
      " 'random_patch': True,\n",
      " 'random_saturation': False,\n",
      " 'resume_training': False,\n",
      " 'saturation_lower': 0.5,\n",
      " 'saturation_upper': 1.5,\n",
      " 'scale_batch_size': True,\n",
      " 'scale_lr': True,\n",
      " 'scales': (0.04, 0.1, 0.26, 0.42, 0.58, 0.74, 0.9, 1.06),\n",
      " 'score_threshold': 0.3,\n",
      " 'smooth_l1_delta': 1.0,\n",
      " 'tfrecords_train': 'ssd/data/dataset_files/coco/train*',\n",
      " 'tfrecords_val': 'ssd/data/dataset_files/coco/val*',\n",
      " 'tpu_name': 'tfrc-srihari-v3-1',\n",
      " 'train_images': 117266,\n",
      " 'use_gpu': True,\n",
      " 'use_mixed_precision': False,\n",
      " 'use_tpu': False,\n",
      " 'val_images': 4952}\n"
     ]
    }
   ],
   "source": [
    "config = load_config('ssd/cfg/coco_resnet50_512x512.yaml')\n",
    "\n",
    "if config['use_mixed_precision']:\n",
    "    if config['use_tpu']:\n",
    "        dtype = 'mixed_bfloat16'\n",
    "    elif config['use_gpu']:\n",
    "#         dtype = 'mixed_float16' # todo: implement loss scaling\n",
    "        dtype = 'float32'\n",
    "    else:\n",
    "        dtype = 'float32'\n",
    "        \n",
    "policy = tf.keras.mixed_precision.experimental.Policy(dtype)\n",
    "tf.keras.mixed_precision.experimental.set_policy(policy)\n",
    "\n",
    "print('\\nCompute dtype: ', policy.compute_dtype)\n",
    "print('Variable dtype: ', policy.variable_dtype)\n",
    "\n",
    "strategy = get_strategy(config)\n",
    "\n",
    "epochs = config['epochs']\n",
    "\n",
    "lr = config['base_lr']\n",
    "lr = config['base_lr']\n",
    "lr = lr if not config['scale_lr'] else lr * strategy.num_replicas_in_sync\n",
    "\n",
    "batch_size = config['batch_size']\n",
    "batch_size = batch_size if not config['scale_batch_size'] else batch_size * strategy.num_replicas_in_sync\n",
    "config['batch_size'] = batch_size\n",
    "\n",
    "train_steps = config['train_images'] // config['batch_size']\n",
    "val_steps = config['val_images'] // config['batch_size']\n",
    "\n",
    "print('\\n')\n",
    "pprint(config, width=120, compact=True)"
   ]
  },
  {
   "cell_type": "code",
   "execution_count": 5,
   "metadata": {},
   "outputs": [
    {
     "name": "stdout",
     "output_type": "stream",
     "text": [
      "INFO:tensorflow:Cleared existing model files\n",
      "\n"
     ]
    }
   ],
   "source": [
    "if config['clear_previous_runs']:\n",
    "    if config['use_tpu']:\n",
    "        logger.warning('Skipping GCS Bucket')\n",
    "    else:\n",
    "        try:\n",
    "            shutil.rmtree(os.path.join(config['model_dir']))\n",
    "            logger.info('Cleared existing model files\\n')\n",
    "        except FileNotFoundError:\n",
    "            logger.warning('model_dir not found!')"
   ]
  },
  {
   "cell_type": "code",
   "execution_count": 6,
   "metadata": {
    "colab": {
     "base_uri": "https://localhost:8080/",
     "height": 50
    },
    "colab_type": "code",
    "id": "xxDv9velkadC",
    "outputId": "61605fa6-09fb-4bf8-aa12-e30cc2cc5bc0"
   },
   "outputs": [
    {
     "name": "stdout",
     "output_type": "stream",
     "text": [
      "WARNING:tensorflow:From /home/uhb3kor/tf_stable/lib/python3.7/site-packages/tensorflow/python/ops/image_ops_impl.py:2827: sample_distorted_bounding_box (from tensorflow.python.ops.image_ops_impl) is deprecated and will be removed in a future version.\n",
      "Instructions for updating:\n",
      "`seed2` arg is deprecated.Use sample_distorted_bounding_box_v2 instead.\n",
      "INFO:tensorflow:Reduce to /job:localhost/replica:0/task:0/device:CPU:0 then broadcast to ('/job:localhost/replica:0/task:0/device:CPU:0',).\n",
      "INFO:tensorflow:Reduce to /job:localhost/replica:0/task:0/device:CPU:0 then broadcast to ('/job:localhost/replica:0/task:0/device:CPU:0',).\n",
      "INFO:tensorflow:Reduce to /job:localhost/replica:0/task:0/device:CPU:0 then broadcast to ('/job:localhost/replica:0/task:0/device:CPU:0',).\n",
      "INFO:tensorflow:Reduce to /job:localhost/replica:0/task:0/device:CPU:0 then broadcast to ('/job:localhost/replica:0/task:0/device:CPU:0',).\n",
      "INFO:tensorflow:Reduce to /job:localhost/replica:0/task:0/device:CPU:0 then broadcast to ('/job:localhost/replica:0/task:0/device:CPU:0',).\n",
      "INFO:tensorflow:Reduce to /job:localhost/replica:0/task:0/device:CPU:0 then broadcast to ('/job:localhost/replica:0/task:0/device:CPU:0',).\n",
      "INFO:tensorflow:Reduce to /job:localhost/replica:0/task:0/device:CPU:0 then broadcast to ('/job:localhost/replica:0/task:0/device:CPU:0',).\n",
      "INFO:tensorflow:Reduce to /job:localhost/replica:0/task:0/device:CPU:0 then broadcast to ('/job:localhost/replica:0/task:0/device:CPU:0',).\n",
      "INFO:tensorflow:Reduce to /job:localhost/replica:0/task:0/device:CPU:0 then broadcast to ('/job:localhost/replica:0/task:0/device:CPU:0',).\n",
      "INFO:tensorflow:Reduce to /job:localhost/replica:0/task:0/device:CPU:0 then broadcast to ('/job:localhost/replica:0/task:0/device:CPU:0',).\n"
     ]
    }
   ],
   "source": [
    "with strategy.scope():\n",
    "    train_dataset = DatasetBuilder('train', config)\n",
    "    val_dataset = DatasetBuilder('val', config)\n",
    "\n",
    "    loss_fn = MultiBoxLoss(config)\n",
    "    optimizer = tf.optimizers.Adam(learning_rate=lr)\n",
    "    callbacks_list = CallbackBuilder('480', config).get_callbacks()\n",
    "\n",
    "    model = SSDModel(config)\n",
    "    model.compile(loss_fn=loss_fn, optimizer=optimizer)\n",
    "    if config['resume_training']:\n",
    "        latest_checkpoint = tf.train.latest_checkpoint(os.path.join(config['model_dir'] , 'checkpoints'))\n",
    "        if latest_checkpoint is not None:\n",
    "            logger.info('Loading weights from {}'.format(latest_checkpoint))\n",
    "            model.load_weights(latest_checkpoint)\n",
    "        else:\n",
    "            logger.warning('No weights found, training from scratch')"
   ]
  },
  {
   "cell_type": "code",
   "execution_count": null,
   "metadata": {},
   "outputs": [],
   "source": [
    "model.fit(train_dataset.dataset,\n",
    "          epochs=epochs,\n",
    "          steps_per_epoch=train_steps,\n",
    "          validation_data=val_dataset.dataset,\n",
    "          validation_steps=val_steps,\n",
    "          callbacks=callbacks_list)\n",
    "\n",
    "with strategy.scope():\n",
    "    save_path = os.path.join(config['model_dir'], 'final_weights', 'ssd_weights')\n",
    "    logger.info('Saving final weights at in {}'.format(save_path))\n",
    "    model.save_weights(save_path)"
   ]
  },
  {
   "cell_type": "code",
   "execution_count": null,
   "metadata": {},
   "outputs": [],
   "source": [
    "with strategy.scope():\n",
    "    latest_checkpoint = tf.train.latest_checkpoint(os.path.join(config['model_dir'] , 'best_weights'))\n",
    "    logger.info('Loading weights from {}'.format(latest_checkpoint))\n",
    "    model.load_weights(latest_checkpoint)"
   ]
  },
  {
   "cell_type": "code",
   "execution_count": null,
   "metadata": {},
   "outputs": [],
   "source": [
    "for images, _ in val_dataset.dataset.take(1):\n",
    "    for i in tqdm(range(images.shape[0])):\n",
    "        image = images[i]\n",
    "        detections = model.get_detections(image[None, ...])\n",
    "        if 'resnet' in config['backbone']:\n",
    "            image = image * 127.5 + 127.5\n",
    "        \n",
    "        categories = [config['classes'][cls_id] for cls_id in detections['cls_ids'].numpy()]\n",
    "        image = draw_boxes_cv2(image, detections['boxes'], categories)\n",
    "        imshow(image)"
   ]
  },
  {
   "cell_type": "code",
   "execution_count": null,
   "metadata": {},
   "outputs": [],
   "source": [
    "image_path = ''\n",
    "\n",
    "image = tf.io.read_file(image_path)\n",
    "image = tf.image.decode_image(image)\n",
    "image = tf.image.resize(image, [config['image_height'], config['image_width']])\n",
    "\n",
    "if 'resnet' in config['backbone']:\n",
    "    image_preprocessed = (tf.cast(image, dtype=tf.float32) - 127.5) / 127.5\n",
    "else:\n",
    "    image_preprocessed = image\n",
    "\n",
    "s = time()\n",
    "detections = model.get_detections(image_preprocessed[None, ...])\n",
    "e = time()\n",
    "logger.info('Inference time: {:.3f}'.format(e - s))\n",
    "categories = [config['classes'][cls_id] for cls_id in detections['cls_ids']]\n",
    "image = draw_boxes_cv2(image, detections['boxes'], categories, thickness=1)\n",
    "imshow(image)"
   ]
  },
  {
   "cell_type": "code",
   "execution_count": 1,
   "metadata": {},
   "outputs": [],
   "source": [
    "import tensorflow as tf"
   ]
  },
  {
   "cell_type": "code",
   "execution_count": 4,
   "metadata": {},
   "outputs": [],
   "source": [
    "p = tf.keras.mixed_precision.experimental.global_policy()"
   ]
  },
  {
   "cell_type": "code",
   "execution_count": 5,
   "metadata": {},
   "outputs": [
    {
     "data": {
      "text/plain": [
       "'float32'"
      ]
     },
     "execution_count": 5,
     "metadata": {},
     "output_type": "execute_result"
    }
   ],
   "source": [
    "p.compute_dtype"
   ]
  },
  {
   "cell_type": "code",
   "execution_count": null,
   "metadata": {},
   "outputs": [],
   "source": []
  }
 ],
 "metadata": {
  "accelerator": "TPU",
  "colab": {
   "include_colab_link": true,
   "name": "colab_train.ipynb",
   "provenance": []
  },
  "environment": {
   "name": "tf2-cpu.2-1.m47",
   "type": "gcloud",
   "uri": "gcr.io/deeplearning-platform-release/tf2-cpu.2-1:m47"
  },
  "kernelspec": {
   "display_name": "Python 3",
   "language": "python",
   "name": "python3"
  },
  "language_info": {
   "codemirror_mode": {
    "name": "ipython",
    "version": 3
   },
   "file_extension": ".py",
   "mimetype": "text/x-python",
   "name": "python",
   "nbconvert_exporter": "python",
   "pygments_lexer": "ipython3",
   "version": "3.7.6"
  }
 },
 "nbformat": 4,
 "nbformat_minor": 4
}
